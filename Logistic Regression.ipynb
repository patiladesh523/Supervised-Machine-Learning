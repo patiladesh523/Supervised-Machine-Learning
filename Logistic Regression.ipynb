{
 "cells": [
  {
   "cell_type": "markdown",
   "id": "928be23e",
   "metadata": {},
   "source": [
    "# Logistic Regression"
   ]
  },
  {
   "cell_type": "markdown",
   "id": "9d46bf16",
   "metadata": {},
   "source": [
    "Logistic Regression is another supervised learning algorithm which is used to solve the classification problem.\n",
    "\n",
    "In Classification problem ,we have dependent variable in a binary or discreate format such as 0 and 1.\n",
    "\n",
    "Logistic Regression algorithm work with the categorical variable such as 0 or 1 , yes or no , true or false , spam or not spam etc.\n",
    "\n",
    "It is predictive analysis algorothm which works on the concept of probablity.\n"
   ]
  },
  {
   "cell_type": "code",
   "execution_count": 1,
   "id": "70528bab",
   "metadata": {},
   "outputs": [],
   "source": [
    "# Python in order to determine whether candidates would get admitted to a prestigious university"
   ]
  },
  {
   "cell_type": "code",
   "execution_count": 2,
   "id": "f5ceee2f",
   "metadata": {},
   "outputs": [],
   "source": [
    "# Here two possible outcomes: Addmitted Represent 1 and Rejected Represent 0"
   ]
  },
  {
   "cell_type": "code",
   "execution_count": 4,
   "id": "83af6917",
   "metadata": {},
   "outputs": [],
   "source": [
    "candidates= {\n",
    "\"gmat\":[780,750,690,710,680],\n",
    "\"gpa\":[4,3.9,3.3,3.7,3.9],\n",
    "\"w e\":[3,4,3,5,4],\n",
    "\"ad\":[1,1,0,1,0]\n",
    "}"
   ]
  },
  {
   "cell_type": "code",
   "execution_count": 9,
   "id": "9a90aba9",
   "metadata": {},
   "outputs": [],
   "source": [
    "import pandas as pd\n",
    "df = pd.DataFrame(candidates,columns=[\"gmat\",\"gpa\",\"w e\",\"ad\"])"
   ]
  },
  {
   "cell_type": "code",
   "execution_count": 11,
   "id": "19e66d52",
   "metadata": {},
   "outputs": [
    {
     "data": {
      "text/html": [
       "<div>\n",
       "<style scoped>\n",
       "    .dataframe tbody tr th:only-of-type {\n",
       "        vertical-align: middle;\n",
       "    }\n",
       "\n",
       "    .dataframe tbody tr th {\n",
       "        vertical-align: top;\n",
       "    }\n",
       "\n",
       "    .dataframe thead th {\n",
       "        text-align: right;\n",
       "    }\n",
       "</style>\n",
       "<table border=\"1\" class=\"dataframe\">\n",
       "  <thead>\n",
       "    <tr style=\"text-align: right;\">\n",
       "      <th></th>\n",
       "      <th>gmat</th>\n",
       "      <th>gpa</th>\n",
       "      <th>w e</th>\n",
       "      <th>ad</th>\n",
       "    </tr>\n",
       "  </thead>\n",
       "  <tbody>\n",
       "    <tr>\n",
       "      <th>0</th>\n",
       "      <td>780</td>\n",
       "      <td>4.0</td>\n",
       "      <td>3</td>\n",
       "      <td>1</td>\n",
       "    </tr>\n",
       "    <tr>\n",
       "      <th>1</th>\n",
       "      <td>750</td>\n",
       "      <td>3.9</td>\n",
       "      <td>4</td>\n",
       "      <td>1</td>\n",
       "    </tr>\n",
       "    <tr>\n",
       "      <th>2</th>\n",
       "      <td>690</td>\n",
       "      <td>3.3</td>\n",
       "      <td>3</td>\n",
       "      <td>0</td>\n",
       "    </tr>\n",
       "    <tr>\n",
       "      <th>3</th>\n",
       "      <td>710</td>\n",
       "      <td>3.7</td>\n",
       "      <td>5</td>\n",
       "      <td>1</td>\n",
       "    </tr>\n",
       "    <tr>\n",
       "      <th>4</th>\n",
       "      <td>680</td>\n",
       "      <td>3.9</td>\n",
       "      <td>4</td>\n",
       "      <td>0</td>\n",
       "    </tr>\n",
       "  </tbody>\n",
       "</table>\n",
       "</div>"
      ],
      "text/plain": [
       "   gmat  gpa  w e  ad\n",
       "0   780  4.0    3   1\n",
       "1   750  3.9    4   1\n",
       "2   690  3.3    3   0\n",
       "3   710  3.7    5   1\n",
       "4   680  3.9    4   0"
      ]
     },
     "execution_count": 11,
     "metadata": {},
     "output_type": "execute_result"
    }
   ],
   "source": [
    "df"
   ]
  },
  {
   "cell_type": "code",
   "execution_count": 12,
   "id": "ed6df761",
   "metadata": {},
   "outputs": [],
   "source": [
    "x = df[[\"gmat\",\"gpa\",\"w e\"]]\n",
    "y = df[\"ad\"]"
   ]
  },
  {
   "cell_type": "code",
   "execution_count": 14,
   "id": "12dde0ef",
   "metadata": {},
   "outputs": [],
   "source": [
    "from sklearn.model_selection import train_test_split\n",
    "x_train,x_test,y_train,y_test = train_test_split(x,y,test_size=0.25,random_state=0)"
   ]
  },
  {
   "cell_type": "code",
   "execution_count": 15,
   "id": "460a2753",
   "metadata": {},
   "outputs": [],
   "source": [
    "from sklearn.linear_model import LogisticRegression\n",
    "lg = LogisticRegression()\n",
    "lg.fit(x_train,y_train)\n",
    "y_pred = lg.predict(x_test)"
   ]
  },
  {
   "cell_type": "code",
   "execution_count": 25,
   "id": "270f8eb8",
   "metadata": {},
   "outputs": [],
   "source": [
    "cf = pd.crosstab(y_test,y_pred,rownames=[\"Actual\"],colnames=[\"Predicted\"])"
   ]
  },
  {
   "cell_type": "code",
   "execution_count": 27,
   "id": "a89fa0ea",
   "metadata": {},
   "outputs": [
    {
     "name": "stdout",
     "output_type": "stream",
     "text": [
      "Accuracy: 1.0\n"
     ]
    },
    {
     "data": {
      "image/png": "[encoded data removed]",
      "text/plain": [
       "<Figure size 640x480 with 2 Axes>"
      ]
     },
     "metadata": {},
     "output_type": "display_data"
    }
   ],
   "source": [
    "import seaborn as sn\n",
    "import matplotlib.pyplot as plt\n",
    "sn.heatmap(cf,annot=True)  \n",
    "print(\"Accuracy:\",metrics.accuracy_score(y_test,y_pred))\n",
    "plt.show()"
   ]
  },
  {
   "cell_type": "code",
   "execution_count": 30,
   "id": "57f11069",
   "metadata": {},
   "outputs": [],
   "source": [
    "new_candidates= {\n",
    "\"gmat\":[710,680],\n",
    "\"gpa\":[3.7,3.9],\n",
    "\"w e\":[5,4]\n",
    "}"
   ]
  },
  {
   "cell_type": "code",
   "execution_count": 31,
   "id": "ce8dd0af",
   "metadata": {},
   "outputs": [],
   "source": [
    "df2 = pd.DataFrame(new_candidates,columns = [\"gmat\",\"gpa\",\"w e\"])"
   ]
  },
  {
   "cell_type": "code",
   "execution_count": 33,
   "id": "d1d1ae85",
   "metadata": {},
   "outputs": [],
   "source": [
    "y_pred = lg.predict(df2)"
   ]
  },
  {
   "cell_type": "code",
   "execution_count": 34,
   "id": "0f2034f2",
   "metadata": {},
   "outputs": [
    {
     "data": {
      "text/html": [
       "<div>\n",
       "<style scoped>\n",
       "    .dataframe tbody tr th:only-of-type {\n",
       "        vertical-align: middle;\n",
       "    }\n",
       "\n",
       "    .dataframe tbody tr th {\n",
       "        vertical-align: top;\n",
       "    }\n",
       "\n",
       "    .dataframe thead th {\n",
       "        text-align: right;\n",
       "    }\n",
       "</style>\n",
       "<table border=\"1\" class=\"dataframe\">\n",
       "  <thead>\n",
       "    <tr style=\"text-align: right;\">\n",
       "      <th></th>\n",
       "      <th>gmat</th>\n",
       "      <th>gpa</th>\n",
       "      <th>w e</th>\n",
       "    </tr>\n",
       "  </thead>\n",
       "  <tbody>\n",
       "    <tr>\n",
       "      <th>0</th>\n",
       "      <td>710</td>\n",
       "      <td>3.7</td>\n",
       "      <td>5</td>\n",
       "    </tr>\n",
       "    <tr>\n",
       "      <th>1</th>\n",
       "      <td>680</td>\n",
       "      <td>3.9</td>\n",
       "      <td>4</td>\n",
       "    </tr>\n",
       "  </tbody>\n",
       "</table>\n",
       "</div>"
      ],
      "text/plain": [
       "   gmat  gpa  w e\n",
       "0   710  3.7    5\n",
       "1   680  3.9    4"
      ]
     },
     "execution_count": 34,
     "metadata": {},
     "output_type": "execute_result"
    }
   ],
   "source": [
    "df2"
   ]
  },
  {
   "cell_type": "code",
   "execution_count": 35,
   "id": "94813b12",
   "metadata": {},
   "outputs": [
    {
     "data": {
      "text/plain": [
       "array([1, 0], dtype=int64)"
      ]
     },
     "execution_count": 35,
     "metadata": {},
     "output_type": "execute_result"
    }
   ],
   "source": [
    "y_pred"
   ]
  },
  {
   "cell_type": "code",
   "execution_count": null,
   "id": "1aab93b3",
   "metadata": {},
   "outputs": [],
   "source": []
  }
 ],
 "metadata": {
  "kernelspec": {
   "display_name": "Python 3 (ipykernel)",
   "language": "python",
   "name": "python3"
  },
  "language_info": {
   "codemirror_mode": {
    "name": "ipython",
    "version": 3
   },
   "file_extension": ".py",
   "mimetype": "text/x-python",
   "name": "python",
   "nbconvert_exporter": "python",
   "pygments_lexer": "ipython3",
   "version": "3.11.5"
  }
 },
 "nbformat": 4,
 "nbformat_minor": 5
}
